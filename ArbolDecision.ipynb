{
 "cells": [
  {
   "cell_type": "code",
   "execution_count": null,
   "metadata": {},
   "outputs": [],
   "source": [
    "import pandas as pd\n",
    "import math\n",
    "\n",
    "datos=pd.read_csv(\"apples.csv\")\n",
    "\n",
    "def entropia(datos):\n",
    "    total=datos.count().clase\n",
    "    clase0=datos.loc[datos[\"clase\"]==0].count().clase/total\n",
    "    clase1=datos.loc[datos[\"clase\"]==1].count().clase/total\n",
    "    ent=0\n",
    "    if clase0>0:\n",
    "        ent+=(-clase0*math.log(clase0, 2))\n",
    "    if clase1>0:\n",
    "        ent+=(-clase1*math.log(clase1,2))\n",
    "    return ent\n",
    "\n",
    "def informationGain(datos, sep1, sep2):\n",
    "    entropiaCompleto=entropia(datos)\n",
    "    sep1Count=sep1.count().clase/datos.count().clase\n",
    "    sep2Count=sep2.count().clase/datos.count().clase\n",
    "    ig=0\n",
    "    if sep1Count>0:\n",
    "        ig+=sep1Count*entropia(sep1)\n",
    "    if sep2Count>0:\n",
    "        ig+=sep2Count*entropia(sep2)\n",
    "    return entropiaCompleto-ig\n",
    "\n",
    "informationGain(datos, datos.loc[datos[\"width\"]>=7].copy(), datos.loc[datos[\"width\"]<7].copy())"
   ]
  },
  {
   "cell_type": "code",
   "execution_count": null,
   "metadata": {},
   "outputs": [],
   "source": [
    "from scipy.stats import wilcoxon\n",
    "a=[0.85714286,0.75,0.8,0.75,0.6,0.71428571,0.5,0.5,0.5,0.5,0.85714286,0.8,0.7948718,0.75,0.61842105,0.6875,0.60344828,0.5,0.50769231,0.48148148]\n",
    "b=[0.5,0.75,0.58,0.42,0.83,0.83,0.75,0.41,0.67,0.5,0.5,0.75,0.63,0.54,0.83,0.79,0.71,0.42,0.63,0.58]\n",
    "wilcoxon(a,b)"
   ]
  },
  {
   "cell_type": "code",
   "execution_count": null,
   "metadata": {},
   "outputs": [
    {
     "data": {
      "text/plain": [
       "1.0"
      ]
     },
     "execution_count": 21,
     "metadata": {},
     "output_type": "execute_result"
    }
   ],
   "source": [
    "from sklearn.tree import DecisionTreeClassifier\n",
    "from sklearn import tree\n",
    "classifier=DecisionTreeClassifier()\n",
    "X=datos.iloc[:,:-1].to_numpy()\n",
    "Y=datos.iloc[:,-1].to_numpy()\n",
    "classifier=classifier.fit(X,Y)\n",
    "#reglas=tree.export_text(classifier)\n",
    "#print(reglas)\n",
    "from sklearn.metrics import accuracy_score\n",
    "accuracy_score(Y, classifier.predict(X))"
   ]
  }
 ],
 "metadata": {
  "interpreter": {
   "hash": "a67bb0bde1c726f5027279ccd2504939f566f11d01df2981e46baef60d093c15"
  },
  "kernelspec": {
   "display_name": "Python 3.10.2 ('clase': venv)",
   "language": "python",
   "name": "python3"
  },
  "language_info": {
   "codemirror_mode": {
    "name": "ipython",
    "version": 3
   },
   "file_extension": ".py",
   "mimetype": "text/x-python",
   "name": "python",
   "nbconvert_exporter": "python",
   "pygments_lexer": "ipython3",
   "version": "3.9.6"
  },
  "orig_nbformat": 4
 },
 "nbformat": 4,
 "nbformat_minor": 2
}
