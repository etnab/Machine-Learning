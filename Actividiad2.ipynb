{
 "cells": [
  {
   "cell_type": "code",
   "execution_count": null,
   "metadata": {},
   "outputs": [],
   "source": [
    "import numpy as np\n",
    "import matplotlib.pyplot as plt\n",
    "import pandas as pd\n",
    "\n",
    "\n",
    "data=pd.read_csv(\"iris.csv\")\n",
    "# plt.scatter(data[\"height\"], data[\"width\"])\n",
    "# plt.show()\n"
   ]
  },
  {
   "cell_type": "code",
   "execution_count": null,
   "metadata": {},
   "outputs": [],
   "source": [
    "def euclideana(x3, x2, x1):\n",
    "    e1=np.sqrt(np.sum(np.power((x2-x1),2)))\n",
    "    e2=np.sqrt(np.sum(np.power(x3-x1,2)))\n",
    "    ed=e1+e2\n",
    "    return ed\n",
    "def clasificar(X,Y,aClasificar,k):\n",
    "    cercanos=[]\n",
    "    for i in range(k):\n",
    "        cercanos.apped[np.inf,0]\n",
    "    for i in range(len(X))\n",
    "        distancia=euclideana(X[i],aClasificar,)\n",
    "\n"
   ]
  }
 ],
 "metadata": {
  "language_info": {
   "name": "python"
  },
  "orig_nbformat": 4
 },
 "nbformat": 4,
 "nbformat_minor": 2
}
