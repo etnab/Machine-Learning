{
 "cells": [
  {
   "cell_type": "code",
   "execution_count": 7,
   "metadata": {},
   "outputs": [],
   "source": [
    "'''\n",
    "Autor: Etna Zarate \n",
    "Regresion Logistica como Neurona\n",
    "\n",
    "'''\n",
    "import pandas as pd\n",
    "import numpy as np \n",
    "\n",
    "datos=pd.read_csv(\"data/applesFull.csv\")\n",
    "\n",
    "X=datos.iloc[:,:-1].to_numpy()\n",
    "Y=datos.iloc[:,-1].to_numpy()"
   ]
  },
  {
   "cell_type": "code",
   "execution_count": 14,
   "metadata": {},
   "outputs": [],
   "source": [
    "def combinacion (x,w): \n",
    "    res = 0\n",
    "\n",
    "    for i in range (0,len(w)):\n",
    "        res+=x[i]*w[i]\n",
    "    return res\n",
    "\n",
    "def activacion(z):\n",
    "    return 1/(1+np.exp(-z))\n",
    "\n",
    "def clasificar(x,w):\n",
    "    a=activacion(combinacion(x,w))\n",
    "    \n",
    "    #Si es mayor a 5 regresamos 1\n",
    "    if a>0.5:\n",
    "        return 1\n",
    "    #En caso contrario regresamos 0 \n",
    "    else: \n",
    "        return 0 \n",
    "\n",
    "def clasificarTodos (x,w):\n",
    "    pesos=np.random.rand(np.shape(X)[1]+1)\n",
    "    Xnew=np.c_(np.ones(np.shape(X)[0]), X)\n",
    "    res=[]\n",
    "    for i in Xnew:\n",
    "        res.append(clasificar(i,pesos))\n",
    "    return res\n",
    "\n",
    "\n",
    "\n",
    "def error(yreal, activacion): \n",
    "    return -yreal*np.log(activacion) - (-1 - yreal)*np.log(activacion)\n",
    "\n",
    "def calcularDerivada(yreal, activacion, x):\n",
    "    # poner un vector donde van a ir las derivadas por cada peso\n",
    "    derivada = [] \n",
    "    # calcular a-y\n",
    "    val = activacion - yreal\n",
    "    # agregarlo al vector\n",
    "    derivada.append(val)\n",
    "    # por cada peso, multiplicar su caracteristica y agregarlo\n",
    "    # for i in x[1:]:\n",
    "    for i in x: \n",
    "        derivada.append(i*val)\n",
    "        return derivada"
   ]
  },
  {
   "cell_type": "code",
   "execution_count": 19,
   "metadata": {},
   "outputs": [
    {
     "ename": "TypeError",
     "evalue": "'CClass' object is not callable",
     "output_type": "error",
     "traceback": [
      "\u001b[0;31m---------------------------------------------------------------------------\u001b[0m",
      "\u001b[0;31mTypeError\u001b[0m                                 Traceback (most recent call last)",
      "\u001b[1;32m/Users/etnaramirez/Documents/IC/RegresionLogisticaComoNeurona.ipynb Cell 3'\u001b[0m in \u001b[0;36m<cell line: 3>\u001b[0;34m()\u001b[0m\n\u001b[1;32m      <a href='vscode-notebook-cell:/Users/etnaramirez/Documents/IC/RegresionLogisticaComoNeurona.ipynb#ch0000003?line=0'>1</a>\u001b[0m \u001b[39mimport\u001b[39;00m \u001b[39mrandom\u001b[39;00m\n\u001b[1;32m      <a href='vscode-notebook-cell:/Users/etnaramirez/Documents/IC/RegresionLogisticaComoNeurona.ipynb#ch0000003?line=1'>2</a>\u001b[0m pesos\u001b[39m=\u001b[39mnp\u001b[39m.\u001b[39mrandom\u001b[39m.\u001b[39mrand(np\u001b[39m.\u001b[39mshape(X)[\u001b[39m1\u001b[39m]\u001b[39m+\u001b[39m\u001b[39m1\u001b[39m)\n\u001b[0;32m----> <a href='vscode-notebook-cell:/Users/etnaramirez/Documents/IC/RegresionLogisticaComoNeurona.ipynb#ch0000003?line=2'>3</a>\u001b[0m Xnew\u001b[39m=\u001b[39mnp\u001b[39m.\u001b[39;49mc_(np\u001b[39m.\u001b[39;49mones(np\u001b[39m.\u001b[39;49mshape(X)[\u001b[39m0\u001b[39;49m]), X)\n\u001b[1;32m      <a href='vscode-notebook-cell:/Users/etnaramirez/Documents/IC/RegresionLogisticaComoNeurona.ipynb#ch0000003?line=3'>4</a>\u001b[0m cambioPesos \u001b[39m=\u001b[39m calcularDerivada(Y[\u001b[39m0\u001b[39m], activacion(combinacion(Xnew[\u001b[39m0\u001b[39m], pesos)), Xnew[\u001b[39m0\u001b[39m])\n",
      "\u001b[0;31mTypeError\u001b[0m: 'CClass' object is not callable"
     ]
    }
   ],
   "source": [
    "pesos=np.random.rand(np.shape(X)[1]+1)\n",
    "Xnew=np.c_(np.ones(np.shape(X)[0]), X)\n",
    "cambioPesos = calcularDerivada(Y[0], activacion(combinacion(Xnew[0], pesos)), Xnew[0])"
   ]
  },
  {
   "cell_type": "code",
   "execution_count": null,
   "metadata": {},
   "outputs": [],
   "source": []
  }
 ],
 "metadata": {
  "interpreter": {
   "hash": "34b7e0f1b56d3d5ef3af1abbfcb520c63560d62e0ce392fde2e69c9f168bfb7d"
  },
  "kernelspec": {
   "display_name": "Python 3.9.6 ('IC': venv)",
   "language": "python",
   "name": "python3"
  },
  "language_info": {
   "codemirror_mode": {
    "name": "ipython",
    "version": 3
   },
   "file_extension": ".py",
   "mimetype": "text/x-python",
   "name": "python",
   "nbconvert_exporter": "python",
   "pygments_lexer": "ipython3",
   "version": "3.9.6"
  },
  "orig_nbformat": 4
 },
 "nbformat": 4,
 "nbformat_minor": 2
}
