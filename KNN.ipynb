{
 "cells": [
  {
   "cell_type": "code",
   "execution_count": 4,
   "metadata": {},
   "outputs": [
    {
     "data": {
      "image/png": "[encoded data removed]",
      "text/plain": [
       "<Figure size 432x288 with 1 Axes>"
      ]
     },
     "metadata": {
      "needs_background": "light"
     },
     "output_type": "display_data"
    }
   ],
   "source": [
    "import numpy as np\n",
    "import matplotlib.pyplot as plt\n",
    "import pandas as pd\n",
    "\n",
    "\n",
    "data=pd.read_csv(\"apples.csv\")\n",
    "plt.scatter(data[\"height\"], data[\"width\"])\n",
    "plt.show()\n",
    "\n",
    "\n",
    "\n",
    "Xtrain=data.iloc[:,:-1].to_numpy();\n",
    "Ytrain=data.iloc[:,-1].to_numpy();"
   ]
  },
  {
   "cell_type": "code",
   "execution_count": 5,
   "metadata": {},
   "outputs": [
    {
     "name": "stdout",
     "output_type": "stream",
     "text": [
      "None\n"
     ]
    }
   ],
   "source": [
    "def euclideana(x2, x1):\n",
    "    return np.sqrt(np.sum(np.power(x2-x1, 2)))\n",
    "# X son todos los puntos \n",
    "# Y son el color de los puntos \n",
    "# K son las clases \n",
    "# J son los vecinos cercanos\n",
    "def clasificarEjemplo(X, Y, aClasificar, k):\n",
    "    cercanos=[]\n",
    "    for i in range(k):\n",
    "        cercanos.append([np.inf, 0])\n",
    "    for i in range(len(X)):\n",
    "        distancia=euclideana(X[i], aClasificar)\n",
    "        for j in range(k):\n",
    "            if cercanos[j][0]>distancia:\n",
    "                cercanos[j][0]=distancia\n",
    "                cercanos[j][1]=Y[i]\n",
    "                break\n",
    "\n",
    "    clase=dict()\n",
    "    clase[0]=0\n",
    "    clase[1]=0\n",
    "    for cercano in cercanos:\n",
    "        clase[cercano[1]]+=1\n",
    "    if clase[0]>clase[1]:\n",
    "        return 0\n",
    "    else:\n",
    "        return 1\n",
    "\n",
    "\n"
   ]
  },
  {
   "cell_type": "code",
   "execution_count": 7,
   "metadata": {},
   "outputs": [],
   "source": [
    "def clasificar(Xtrain, Ytrain, Xtest, k):\n",
    "    resultado=[]\n",
    "    for ejemplo in Xtest:\n",
    "        resultado.append(clasificarEjemplo(Xtrain, Ytrain, ejemplo, k))\n",
    "    return resultado\n",
    "\n",
    "def accuracy(Yobtained, Yreal):\n",
    "    correctos=0\n",
    "    for i in range(len(Yobtained)):\n",
    "        if Yobtained[i]==Yreal[i]:\n",
    "            correctos+=1\n",
    "    return correctos/len(Yobtained)\n",
    "\n"
   ]
  },
  {
   "cell_type": "code",
   "execution_count": 8,
   "metadata": {},
   "outputs": [
    {
     "data": {
      "image/png": "[encoded data removed]",
      "text/plain": [
       "<Figure size 432x288 with 1 Axes>"
      ]
     },
     "metadata": {
      "needs_background": "light"
     },
     "output_type": "display_data"
    }
   ],
   "source": [
    "datos=pd.read_csv(\"lineas.csv\")\n",
    "clase1=datos.loc[datos[\"clase\"]==1]\n",
    "clase0=datos.loc[datos[\"clase\"]==0]\n",
    "plt.scatter(clase0.iloc[:,0], clase0.iloc[:,1], color=\"b\", label=\"clase0\")\n",
    "plt.scatter(clase1.iloc[:,0], clase1.iloc[:,1], color=\"r\", label=\"clase1\")\n",
    "plt.legend()\n",
    "plt.show()"
   ]
  },
  {
   "cell_type": "code",
   "execution_count": 9,
   "metadata": {},
   "outputs": [
    {
     "data": {
      "image/png": "[encoded data removed]",
      "text/plain": [
       "<Figure size 432x288 with 1 Axes>"
      ]
     },
     "metadata": {
      "needs_background": "light"
     },
     "output_type": "display_data"
    }
   ],
   "source": [
    "x=np.linspace(0,100,100)\n",
    "y=np.linspace(0,100,100)\n",
    "clases=dict()\n",
    "clases[1]=[]\n",
    "clases[0]=[]\n",
    "Xtrain=datos.iloc[:, 0:-1].to_numpy();\n",
    "Ytrain=datos.iloc[:, -1].to_numpy()\n",
    "for i in range(len(x)):\n",
    "    for j in range(len(y)):\n",
    "        valor=[x[i],y[j]]\n",
    "        clasificacion=clasificarEjemplo(Xtrain, Ytrain, valor, 1)\n",
    "        clases[clasificacion].append(valor)\n",
    "clases[0]=np.array(clases[0])\n",
    "clases[1]=np.array(clases[1])\n",
    "plt.scatter(clases[0][:,0], clases[0][:,1], color=\"b\",label=\"clase0\");\n",
    "plt.scatter(clases[1][:,0], clases[1][:,1], color=\"r\",label=\"clase1\");\n",
    "plt.legend()\n",
    "plt.show()\n",
    "\n"
   ]
  },
  {
   "cell_type": "code",
   "execution_count": 10,
   "metadata": {},
   "outputs": [
    {
     "name": "stdout",
     "output_type": "stream",
     "text": [
      "Entrenamiento: 0.9761904761904762 Clasificacion: 0.83\n"
     ]
    }
   ],
   "source": [
    "test=pd.read_csv(\"applesTest.csv\")\n",
    "Xtest=test.iloc[:,:-1].to_numpy();\n",
    "Ytest=test.iloc[:,-1].to_numpy();\n",
    "\n",
    "accuracyClasificacion=accuracy(clasificar(Xtrain, Ytrain, Xtrain, 3), Ytrain)\n",
    "accuracyTesting=accuracy(clasificar(Xtrain, Ytrain, Xtest, 3), Ytest)\n",
    "print(\"Entrenamiento:\", accuracyClasificacion, \"Clasificacion:\", accuracyTesting)"
   ]
  },
  {
   "cell_type": "code",
   "execution_count": 13,
   "metadata": {},
   "outputs": [
    {
     "name": "stdout",
     "output_type": "stream",
     "text": [
      "[0.8777573529411765, 0.8777573529411765, 0.8759191176470589, 0.8676470588235294, 0.8685661764705882, 0.8759191176470589, 0.8731617647058824, 0.8676470588235294, 0.8970588235294118, 0.9604779411764706] [0.9166666666666666, 0.8333333333333334, 0.875, 0.8416666666666667, 0.85, 0.9416666666666667, 0.875, 0.85, 0.8666666666666667, 0.8916666666666667]\n"
     ]
    }
   ],
   "source": [
    "data=pd.read_csv(\"twitter.csv\")\n",
    "data.clase=pd.Categorical(data.clase)\n",
    "data.clase=data.clase.cat.codes\n",
    "idx=data.index.values\n",
    "np.random.shuffle(idx)\n",
    "folds=10\n",
    "datosPorFold=len(idx)//folds\n",
    "accuracyTraining=[]\n",
    "accuracyTesting=[]\n",
    "for f in range(0,folds):\n",
    "    idxTest=idx[f*datosPorFold:(f+1)*datosPorFold]\n",
    "    XTrain=data.iloc[~data.index.isin(idxTest),:-1].to_numpy()\n",
    "    YTrain=data.iloc[~data.index.isin(idxTest),-1].to_numpy()\n",
    "    XTest=data.iloc[idxTest, :-1].to_numpy();\n",
    "    YTest=data.iloc[idxTest, -1].to_numpy();\n",
    "    accuracyTraining.append(accuracy(clasificar(XTrain, YTrain, XTrain, 3), YTrain))\n",
    "    accuracyTesting.append(accuracy(clasificar(XTrain, YTrain, XTest, 3), YTest))\n",
    "print(accuracyTraining, accuracyTesting)"
   ]
  },
  {
   "cell_type": "code",
   "execution_count": 12,
   "metadata": {},
   "outputs": [
    {
     "name": "stdout",
     "output_type": "stream",
     "text": [
      "0.8841911764705882 0.8683333333333334\n"
     ]
    }
   ],
   "source": [
    "print(np.average([0.8777573529411765, 0.8777573529411765, 0.8759191176470589, 0.8676470588235294, 0.8685661764705882, 0.8759191176470589, 0.8731617647058824, 0.8676470588235294, 0.8970588235294118, 0.9604779411764706]),np.average([0.8416666666666667, 0.8916666666666667, 0.8916666666666667, 0.8333333333333334, 0.8333333333333334, 0.9166666666666666, 0.8583333333333333, 0.8916666666666667, 0.8666666666666667, 0.8583333333333333]))"
   ]
  },
  {
   "cell_type": "code",
   "execution_count": null,
   "metadata": {},
   "outputs": [],
   "source": []
  }
 ],
 "metadata": {
  "interpreter": {
   "hash": "a67bb0bde1c726f5027279ccd2504939f566f11d01df2981e46baef60d093c15"
  },
  "kernelspec": {
   "display_name": "Python 3.10.2 ('clase': venv)",
   "language": "python",
   "name": "python3"
  },
  "language_info": {
   "codemirror_mode": {
    "name": "ipython",
    "version": 3
   },
   "file_extension": ".py",
   "mimetype": "text/x-python",
   "name": "python",
   "nbconvert_exporter": "python",
   "pygments_lexer": "ipython3",
   "version": "3.9.6"
  },
  "orig_nbformat": 4
 },
 "nbformat": 4,
 "nbformat_minor": 2
}
