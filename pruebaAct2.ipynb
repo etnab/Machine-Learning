{
 "cells": [
  {
   "cell_type": "code",
   "execution_count": 1,
   "metadata": {},
   "outputs": [
    {
     "ename": "IndentationError",
     "evalue": "unexpected indent (1383486392.py, line 6)",
     "output_type": "error",
     "traceback": [
      "\u001b[0;36m  Input \u001b[0;32mIn [1]\u001b[0;36m\u001b[0m\n\u001b[0;31m    s1 = [] # conjunto de entrenamiento\u001b[0m\n\u001b[0m    ^\u001b[0m\n\u001b[0;31mIndentationError\u001b[0m\u001b[0;31m:\u001b[0m unexpected indent\n"
     ]
    }
   ],
   "source": [
    "\n",
    "\n",
    "import math\n",
    "\n",
    "# Equipo de entrenamiento y equipo de prueba       \n",
    "group = []\n",
    "labels = []\n",
    "    s1 = [] # conjunto de entrenamiento\n",
    "    tags1 = [] # conjunto de entrenamiento clase de flores\n",
    "    s2 = [] # conjunto de pruebas\n",
    "    tags2 = [] # Clase de flor de conjunto de prueba\n",
    "fr = open(\"iris.txt\")\n",
    "for line in fr.readlines():\n",
    "    lineArr = line.strip().split(\",\")\n",
    "    group.append([float(lineArr[0]), float(lineArr[1]), float(lineArr[2]), float(lineArr[3])])\n",
    "    s1=group[:36]\n",
    "    s2=group[36:45]\n",
    "    labels.append(lineArr[4])\n",
    "    labels1=labels[:36]\n",
    "    labels2=labels[36:45]\n",
    "    #print([elm for i in s2 for elm in i])\n",
    " #Equipo de prueba\n",
    "#test_data=[14,3,10]\n",
    "knn=[]\n",
    " # Recorra y calcule la distancia entre el conjunto de prueba y todos los datos del conjunto de entrenamiento\n",
    "for i in s2:\n",
    "    for k in s1:\n",
    "                 #Buscando distancia\n",
    "        d=math.sqrt((i[0]-k[0])**2+(i[1]-k[1])**2+(i[2]-k[2])**2+(i[3]-k[3])**2)\n",
    "    \n",
    "                 #Tome dos lugares decimales\n",
    "    knn.append([labels1[s1.index(k)],round(d,2)])\n",
    "#print(knn)\n",
    "for i in knn:\n",
    "    for j in i:\n",
    "         #En orden ascendente por distancia y coge los primeros 7 elementos\n",
    "        knn.sort(key=lambda x:x[1])\n",
    "print(knn)\n",
    "knn=knn[: 7]\n",
    "#print(knn)\n",
    " #Clase\n",
    "labels={\n",
    "        '\"setosa\"':0,\n",
    "        '\"versicolor\"':0,\n",
    "        '\"virginica\"':0,\n",
    "        }\n",
    " #Determina la frecuencia de ocurrencia de las primeras 7 muestras\n",
    "for i in knn:\n",
    "    for key,value in labels.items():\n",
    "        if i[0]==key:\n",
    "            labels[key]+=1\n",
    "print(labels)\n",
    " # Los resultados están en orden inverso según el número de ocurrencias\n",
    "labels=sorted(labels.items(),key=lambda l:l[1],reverse=True)\n",
    "print(labels)\n",
    "score =labels[0][1]/ len(labels2)\n",
    "print(score)     \n"
   ]
  }
 ],
 "metadata": {
  "interpreter": {
   "hash": "34b7e0f1b56d3d5ef3af1abbfcb520c63560d62e0ce392fde2e69c9f168bfb7d"
  },
  "kernelspec": {
   "display_name": "Python 3.9.6 ('IC': venv)",
   "language": "python",
   "name": "python3"
  },
  "language_info": {
   "codemirror_mode": {
    "name": "ipython",
    "version": 3
   },
   "file_extension": ".py",
   "mimetype": "text/x-python",
   "name": "python",
   "nbconvert_exporter": "python",
   "pygments_lexer": "ipython3",
   "version": "3.9.6"
  },
  "orig_nbformat": 4
 },
 "nbformat": 4,
 "nbformat_minor": 2
}
