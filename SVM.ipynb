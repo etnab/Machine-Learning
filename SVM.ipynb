{
 "cells": [
  {
   "cell_type": "markdown",
   "metadata": {},
   "source": [
    "# SVM\n",
    "\n",
    "KNN \n",
    "* Funciona bien cuando tenemos datos en pocas dimensiones o datos mas dificiles de clasificar\n",
    "\n",
    "SVM\n",
    "* Funciona cuando tenemos datos muy mezclados o datos que se cruzan \n"
   ]
  },
  {
   "cell_type": "code",
   "execution_count": 1,
   "metadata": {},
   "outputs": [
    {
     "data": {
      "text/plain": [
       "<AxesSubplot:>"
      ]
     },
     "execution_count": 1,
     "metadata": {},
     "output_type": "execute_result"
    },
    {
     "data": {
      "image/png": "[encoded data removed]",
      "text/plain": [
       "<Figure size 432x288 with 1 Axes>"
      ]
     },
     "metadata": {
      "needs_background": "light"
     },
     "output_type": "display_data"
    },
    {
     "data": {
      "image/png": "[encoded data removed]",
      "text/plain": [
       "<Figure size 432x288 with 1 Axes>"
      ]
     },
     "metadata": {
      "needs_background": "light"
     },
     "output_type": "display_data"
    }
   ],
   "source": [
    "#importar librerias \n",
    "import pandas as pd \n",
    "from sklearn import preprocessing\n",
    "\n",
    "#drop a colum\n",
    "# datos=datos.drop(colums = \"height\")\n",
    "\n",
    "#cargar los datos \n",
    "datos = pd.read_csv('data/applesFull.csv')\n",
    "\n",
    "#separamos en entrenamiento y etiquetas (X,Y)\n",
    "\n",
    "X=datos.iloc[:,:-1] # Entrenar (todas las filas, todas las columnas menos la ultima)\n",
    "Y=datos.iloc[:,-1]  # Etiquetas (todas las filas y solo la ultima columna)\n",
    "\n",
    "#importar el normalizador \n",
    "normalizer = preprocessing.MinMaxScaler() #De una categoria, no de todo el conjunto de datos\n",
    "\n",
    "#entrenar el normalizador \n",
    "normalizer = normalizer.fit(X) #Con los datos de entrada \n",
    " \n",
    "# fit(X) -> Aprende cuales son los rangos (min y max) por columna, en este caso de \n",
    "# height,width\n",
    "# aplica normalizacion (min max) en cada columna por cada valor \n",
    "\n",
    "#aplicar el normalizador \n",
    "Xnew=normalizer.transform(X)    \n",
    "\n",
    "#visualizar el normalizador \n",
    "X.plot(kind='box')\n",
    "# Convertir a un data frame un np array \n",
    "pd.DataFrame(Xnew).plot(kind='box')"
   ]
  },
  {
   "cell_type": "code",
   "execution_count": 2,
   "metadata": {},
   "outputs": [
    {
     "data": {
      "text/plain": [
       "<AxesSubplot:>"
      ]
     },
     "execution_count": 2,
     "metadata": {},
     "output_type": "execute_result"
    },
    {
     "data": {
      "image/png": "[encoded data removed]",
      "text/plain": [
       "<Figure size 432x288 with 1 Axes>"
      ]
     },
     "metadata": {
      "needs_background": "light"
     },
     "output_type": "display_data"
    }
   ],
   "source": [
    "#generar el estanzarizador \n",
    "estandarizer = preprocessing.StandardScaler()\n",
    "#entrenar \n",
    "estandarizer = estandarizer.fit(X)\n",
    "#transformar los datos \n",
    "Xstandard=estandarizer.transform(X)\n",
    "#visualizar datos\n",
    "pd.DataFrame(Xstandard).plot(kind='box')"
   ]
  },
  {
   "cell_type": "markdown",
   "metadata": {},
   "source": [
    "## Separación de los datos "
   ]
  },
  {
   "cell_type": "code",
   "execution_count": 4,
   "metadata": {},
   "outputs": [
    {
     "data": {
      "text/plain": [
       "0.875"
      ]
     },
     "execution_count": 4,
     "metadata": {},
     "output_type": "execute_result"
    },
    {
     "data": {
      "image/png": "[encoded data removed]",
      "text/plain": [
       "<Figure size 432x288 with 1 Axes>"
      ]
     },
     "metadata": {
      "needs_background": "light"
     },
     "output_type": "display_data"
    }
   ],
   "source": [
    "#importar librerias \n",
    "import pandas as pd \n",
    "from sklearn import preprocessing\n",
    "from sklearn import model_selection \n",
    "# model_selection nos permite hacer la validación cruzada, separacion de datos \n",
    "\n",
    "\n",
    "#cargar los datos \n",
    "datos = pd.read_csv('data/applesFull.csv')\n",
    "\n",
    "X=datos.iloc[:,:-1]\n",
    "Y=datos.iloc[:,-1]\n",
    "\n",
    "\n",
    "Xtrain, Xtest, Ytrain, Ytest = model_selection.train_test_split(X, Y, test_size=0.2, random_state=5)\n",
    "\n",
    "# Xtrain, Xtest, Ytrain, Ytest = model_selection.train_test_split(X, Y, test_size=0.2)\n",
    "pd.DataFrame(Xtrain).plot(kind='box')\n",
    "\n",
    "from sklearn import svm\n",
    "# importar el clasificador\n",
    "classifier = svm.SVC()\n",
    "# Support vector classier, kernel que utilizará, no nos preocupamos demasiado por los parametros\n",
    "\n",
    "# cargar estantadizador y generarlo \n",
    "\n",
    "\n",
    "\n",
    "\n",
    "# generar una instancia \n",
    "classifier = classifier.fit(Xtrain,Ytrain)\n",
    "# usarlo para clasificar \n",
    "classifier.predict(Xtest)\n",
    "\n",
    "# importar accuracy\n",
    "from sklearn import metrics\n",
    "metrics.accuracy_score(Ytest,classifier.predict(Xtest))\n",
    "\n",
    "\n",
    "\n"
   ]
  }
 ],
 "metadata": {
  "interpreter": {
   "hash": "34b7e0f1b56d3d5ef3af1abbfcb520c63560d62e0ce392fde2e69c9f168bfb7d"
  },
  "kernelspec": {
   "display_name": "Python 3.9.6 ('IC': venv)",
   "language": "python",
   "name": "python3"
  },
  "language_info": {
   "codemirror_mode": {
    "name": "ipython",
    "version": 3
   },
   "file_extension": ".py",
   "mimetype": "text/x-python",
   "name": "python",
   "nbconvert_exporter": "python",
   "pygments_lexer": "ipython3",
   "version": "3.9.6"
  },
  "orig_nbformat": 4
 },
 "nbformat": 4,
 "nbformat_minor": 2
}
