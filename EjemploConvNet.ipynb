{
 "cells": [
  {
   "cell_type": "code",
   "execution_count": 3,
   "metadata": {},
   "outputs": [
    {
     "ename": "ModuleNotFoundError",
     "evalue": "No module named 'keras'",
     "output_type": "error",
     "traceback": [
      "\u001b[0;31m---------------------------------------------------------------------------\u001b[0m",
      "\u001b[0;31mModuleNotFoundError\u001b[0m                       Traceback (most recent call last)",
      "\u001b[1;32m/Users/etnaramirez/Documents/8 semestre/IC/EjemploConvNet.ipynb Cell 1'\u001b[0m in \u001b[0;36m<cell line: 4>\u001b[0;34m()\u001b[0m\n\u001b[1;32m      <a href='vscode-notebook-cell:/Users/etnaramirez/Documents/8%20semestre/IC/EjemploConvNet.ipynb#ch0000000?line=1'>2</a>\u001b[0m \u001b[39mimport\u001b[39;00m \u001b[39mnumpy\u001b[39;00m \u001b[39mas\u001b[39;00m \u001b[39mnp\u001b[39;00m\n\u001b[1;32m      <a href='vscode-notebook-cell:/Users/etnaramirez/Documents/8%20semestre/IC/EjemploConvNet.ipynb#ch0000000?line=2'>3</a>\u001b[0m \u001b[39mimport\u001b[39;00m \u001b[39mpandas\u001b[39;00m \u001b[39mas\u001b[39;00m \u001b[39mpd\u001b[39;00m\n\u001b[0;32m----> <a href='vscode-notebook-cell:/Users/etnaramirez/Documents/8%20semestre/IC/EjemploConvNet.ipynb#ch0000000?line=3'>4</a>\u001b[0m \u001b[39mimport\u001b[39;00m \u001b[39mkeras\u001b[39;00m\n\u001b[1;32m      <a href='vscode-notebook-cell:/Users/etnaramirez/Documents/8%20semestre/IC/EjemploConvNet.ipynb#ch0000000?line=4'>5</a>\u001b[0m \u001b[39m#importando el mnist\u001b[39;00m\n\u001b[1;32m      <a href='vscode-notebook-cell:/Users/etnaramirez/Documents/8%20semestre/IC/EjemploConvNet.ipynb#ch0000000?line=5'>6</a>\u001b[0m data\u001b[39m=\u001b[39mpd\u001b[39m.\u001b[39mread_csv(\u001b[39m\"\u001b[39m\u001b[39mtrainMnist.csv\u001b[39m\u001b[39m\"\u001b[39m)\n",
      "\u001b[0;31mModuleNotFoundError\u001b[0m: No module named 'keras'"
     ]
    }
   ],
   "source": [
    "#importando las librerias \n",
    "import numpy as np\n",
    "import pandas as pd\n",
    "import keras\n",
    "#importando el mnist\n",
    "data=pd.read_csv(\"trainMnist.csv\")\n",
    "Y=data.iloc[:, 0].to_numpy()\n",
    "X=data.iloc[:, 1:].to_numpy()\n",
    "X=X/255.0\n",
    "#sacando la cantidad de ejemplos y caracteristicas(pixeles) que tenemos\n",
    "(n, pixeles)=np.shape(X)\n",
    "Y=np.reshape(Y, (n, 1))\n",
    "print(np.shape(Y))"
   ]
  },
  {
   "cell_type": "code",
   "execution_count": 1,
   "metadata": {},
   "outputs": [
    {
     "ename": "ModuleNotFoundError",
     "evalue": "No module named 'keras'",
     "output_type": "error",
     "traceback": [
      "\u001b[0;31m---------------------------------------------------------------------------\u001b[0m",
      "\u001b[0;31mModuleNotFoundError\u001b[0m                       Traceback (most recent call last)",
      "\u001b[1;32m/Users/etnaramirez/Documents/8 semestre/IC/EjemploConvNet.ipynb Cell 2'\u001b[0m in \u001b[0;36m<cell line: 3>\u001b[0;34m()\u001b[0m\n\u001b[1;32m      <a href='vscode-notebook-cell:/Users/etnaramirez/Documents/8%20semestre/IC/EjemploConvNet.ipynb#ch0000001?line=0'>1</a>\u001b[0m \u001b[39mimport\u001b[39;00m \u001b[39mnumpy\u001b[39;00m \u001b[39mas\u001b[39;00m \u001b[39mnp\u001b[39;00m\n\u001b[1;32m      <a href='vscode-notebook-cell:/Users/etnaramirez/Documents/8%20semestre/IC/EjemploConvNet.ipynb#ch0000001?line=1'>2</a>\u001b[0m \u001b[39mimport\u001b[39;00m \u001b[39mpandas\u001b[39;00m \u001b[39mas\u001b[39;00m \u001b[39mpd\u001b[39;00m\n\u001b[0;32m----> <a href='vscode-notebook-cell:/Users/etnaramirez/Documents/8%20semestre/IC/EjemploConvNet.ipynb#ch0000001?line=2'>3</a>\u001b[0m \u001b[39mimport\u001b[39;00m \u001b[39mkeras\u001b[39;00m\n",
      "\u001b[0;31mModuleNotFoundError\u001b[0m: No module named 'keras'"
     ]
    }
   ],
   "source": [
    "import numpy as np\n",
    "import pandas as pd\n",
    "import keras"
   ]
  },
  {
   "cell_type": "code",
   "execution_count": 6,
   "metadata": {},
   "outputs": [],
   "source": [
    "def oneHotEncoding(Y):\n",
    "    (n, m)=np.shape(Y)\n",
    "    values=np.zeros((n, 10))\n",
    "    i=0\n",
    "    for ejemplo in Y:\n",
    "        values[i][ejemplo[0]]=1\n",
    "        i+=1\n",
    "    return values"
   ]
  },
  {
   "cell_type": "code",
   "execution_count": 8,
   "metadata": {},
   "outputs": [
    {
     "name": "stdout",
     "output_type": "stream",
     "text": [
      "(42000, 28, 28, 1) (42000, 10)\n"
     ]
    }
   ],
   "source": [
    "#Cambiar los datos de entrada de (n, HxW) a (n, H, W, canales)\n",
    "Xnew=np.reshape(X, (n, 28, 28, 1))\n",
    "#cambiar las etiquetas de (n, 1) a (n,#numero de clases)\n",
    "Ynew=oneHotEncoding(Y)\n",
    "print(np.shape(Xnew), np.shape(Ynew))"
   ]
  },
  {
   "cell_type": "code",
   "execution_count": 9,
   "metadata": {},
   "outputs": [
    {
     "name": "stdout",
     "output_type": "stream",
     "text": [
      "Epoch 1/5\n",
      "1050/1050 [==============================] - 15s 6ms/step - loss: 0.3191 - accuracy: 0.9121 - val_loss: 0.1316 - val_accuracy: 0.9607\n",
      "Epoch 2/5\n",
      "1050/1050 [==============================] - 5s 5ms/step - loss: 0.1131 - accuracy: 0.9674 - val_loss: 0.0938 - val_accuracy: 0.9713\n",
      "Epoch 3/5\n",
      "1050/1050 [==============================] - 6s 5ms/step - loss: 0.0821 - accuracy: 0.9757 - val_loss: 0.0810 - val_accuracy: 0.9757\n",
      "Epoch 4/5\n",
      "1050/1050 [==============================] - 6s 5ms/step - loss: 0.0660 - accuracy: 0.9801 - val_loss: 0.0753 - val_accuracy: 0.9771\n",
      "Epoch 5/5\n",
      "1050/1050 [==============================] - 6s 5ms/step - loss: 0.0576 - accuracy: 0.9828 - val_loss: 0.0706 - val_accuracy: 0.9775\n"
     ]
    }
   ],
   "source": [
    "# ESTA ES LA PARTE QUE SE VA A MODIFICAR\n",
    "\n",
    "modelo=keras.Sequential()\n",
    "#agregar una capa convolucional\n",
    "modelo.add(keras.layers.Conv2D(28, kernel_size=(5,5), padding=\"same\", activation=\"sigmoid\"))\n",
    "#agregar una capa de pooling\n",
    "modelo.add(keras.layers.MaxPooling2D(pool_size=(2,2)))\n",
    "\n",
    "#agregar una capa convolucional\n",
    "modelo.add(keras.layers.Conv2D(10, kernel_size=(5,5), padding=\"valid\", activation=\"sigmoid\"))\n",
    "#agregar una capa de pooling\n",
    "modelo.add(keras.layers.MaxPooling2D(pool_size=(2,2)))\n",
    "\n",
    "\n",
    "#aplastar el cubo\n",
    "modelo.add(keras.layers.Flatten())\n",
    "#agregar capa de softmax\n",
    "modelo.add(keras.layers.Dense(120, activation=\"sigmoid\"))\n",
    "\n",
    "#agregar capa de softmax\n",
    "modelo.add(keras.layers.Dense(84, activation=\"sigmoid\"))\n",
    "\n",
    "#agregar capa de softmax\n",
    "modelo.add(keras.layers.Dense(10, activation=\"softmax\"))\n",
    "\n",
    "\n",
    "#compilar el modelo\n",
    "modelo.compile(optimizer=\"adam\", loss=\"categorical_crossentropy\", metrics=[\"accuracy\"])\n",
    "#entrenarlo\n",
    "hist=modelo.fit(Xnew, Ynew, epochs=5, validation_split=.2)\n"
   ]
  },
  {
   "cell_type": "code",
   "execution_count": 10,
   "metadata": {},
   "outputs": [
    {
     "name": "stdout",
     "output_type": "stream",
     "text": [
      "Epoch 1/2\n",
      "1050/1050 [==============================] - 6s 6ms/step - loss: 0.0502 - accuracy: 0.9851 - val_loss: 0.0674 - val_accuracy: 0.9796\n",
      "Epoch 2/2\n",
      "1050/1050 [==============================] - 6s 5ms/step - loss: 0.0450 - accuracy: 0.9862 - val_loss: 0.0646 - val_accuracy: 0.9782\n"
     ]
    }
   ],
   "source": [
    "hist=modelo.fit(Xnew, Ynew, epochs=2, validation_split=.2)"
   ]
  },
  {
   "cell_type": "code",
   "execution_count": 11,
   "metadata": {},
   "outputs": [
    {
     "name": "stdout",
     "output_type": "stream",
     "text": [
      "Epoch 1/10\n",
      "1050/1050 [==============================] - 6s 6ms/step - loss: 0.0388 - accuracy: 0.9885 - val_loss: 0.0618 - val_accuracy: 0.9807\n",
      "Epoch 2/10\n",
      "1050/1050 [==============================] - 6s 5ms/step - loss: 0.0357 - accuracy: 0.9894 - val_loss: 0.0687 - val_accuracy: 0.9800\n",
      "Epoch 3/10\n",
      "1050/1050 [==============================] - 6s 5ms/step - loss: 0.0310 - accuracy: 0.9908 - val_loss: 0.0628 - val_accuracy: 0.9819\n"
     ]
    }
   ],
   "source": [
    "early=keras.callbacks.EarlyStopping(monitor=\"accuracy\", patience=2, min_delta=.01)\n",
    "hist=modelo.fit(Xnew, Ynew, epochs=10, validation_split=.2, callbacks=[early])"
   ]
  }
 ],
 "metadata": {
  "interpreter": {
   "hash": "a67bb0bde1c726f5027279ccd2504939f566f11d01df2981e46baef60d093c15"
  },
  "kernelspec": {
   "display_name": "Python 3.10.4 ('clase': venv)",
   "language": "python",
   "name": "python3"
  },
  "language_info": {
   "codemirror_mode": {
    "name": "ipython",
    "version": 3
   },
   "file_extension": ".py",
   "mimetype": "text/x-python",
   "name": "python",
   "nbconvert_exporter": "python",
   "pygments_lexer": "ipython3",
   "version": "3.9.6"
  },
  "orig_nbformat": 4
 },
 "nbformat": 4,
 "nbformat_minor": 2
}
