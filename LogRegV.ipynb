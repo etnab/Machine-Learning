{
 "cells": [
  {
   "cell_type": "code",
   "execution_count": 43,
   "metadata": {},
   "outputs": [],
   "source": [
    "#importar las librerias y datos\n",
    "import pandas as pd\n",
    "import numpy as np\n",
    "import matplotlib.pyplot as plt\n",
    "#separar los datos en X y Y\n",
    "#datos=pd.read_csv(\"applesFull.csv\")\n",
    "#X=datos.iloc[:, :-1].to_numpy()\n",
    "#Y=datos.iloc[:, -1].to_numpy()\n",
    "X=np.array([[0,0], [0,1], [1,0], [1,1]])\n",
    "Y=np.array([[0], [0], [0], [1]])\n",
    "#cantidad de ejemplos que tengo en X\n",
    "n=np.shape(X)[0]\n",
    "Y=np.reshape(Y, (n,1))"
   ]
  },
  {
   "cell_type": "code",
   "execution_count": 11,
   "metadata": {},
   "outputs": [],
   "source": [
    "def sigmoid(Z):\n",
    "    return 1/(1+np.exp(-Z))"
   ]
  },
  {
   "cell_type": "code",
   "execution_count": 55,
   "metadata": {},
   "outputs": [],
   "source": [
    "pesos=np.random.rand(np.shape(X)[1]+1,1)\n",
    "Xnew=np.c_[np.ones(np.shape(X)[0]), X]\n",
    "def entrenar(X, Y, pesos):\n",
    "    alpha=.04\n",
    "    costos=[]\n",
    "    for i in range(2000):\n",
    "        #combinacion linear\n",
    "        Z=np.dot(X, pesos)\n",
    "        #activacion\n",
    "        A=sigmoid(Z)\n",
    "        #costo de esta iteracion\n",
    "        J=np.sum(-Y*np.log(A)-(1-Y)*np.log(1-A))/n\n",
    "        costos.append(J)\n",
    "        #calcular la derivada\n",
    "        dw=np.dot(Xnew.T, A-Y)/n\n",
    "        #actualizar los pesos\n",
    "        pesos=pesos-(alpha*dw)\n",
    "    plt.plot(costos)\n",
    "    plt.show()\n",
    "    return pesos\n",
    "\n",
    "def clasificar(X, pesos):\n",
    "    #combinacion linear\n",
    "    Z=np.dot(X, pesos)\n",
    "    #activacion\n",
    "    A=sigmoid(Z)\n",
    "    res=[]\n",
    "    for i in A:\n",
    "        if i>.5:\n",
    "            res.append(1)\n",
    "        else:\n",
    "            res.append(0)\n",
    "    return res\n"
   ]
  },
  {
   "cell_type": "code",
   "execution_count": 54,
   "metadata": {},
   "outputs": [
    {
     "data": {
      "image/png": "[encoded data removed]",
      "text/plain": [
       "<Figure size 432x288 with 1 Axes>"
      ]
     },
     "metadata": {
      "needs_background": "light"
     },
     "output_type": "display_data"
    },
    {
     "name": "stdout",
     "output_type": "stream",
     "text": [
      "0.5849747657775879\n"
     ]
    },
    {
     "data": {
      "text/plain": [
       "1.0"
      ]
     },
     "execution_count": 54,
     "metadata": {},
     "output_type": "execute_result"
    }
   ],
   "source": [
    "from sklearn import metrics\n",
    "pesos=np.random.rand(np.shape(X)[1]+1,1)\n",
    "Xnew=np.c_[np.ones(np.shape(X)[0]), X]\n",
    "import time\n",
    "t0=time.time()\n",
    "pesos=entrenar(Xnew, Y, pesos)\n",
    "t1=time.time()\n",
    "print(t1-t0)\n",
    "metrics.accuracy_score(Y,clasificar(Xnew, pesos))"
   ]
  }
 ],
 "metadata": {
  "interpreter": {
   "hash": "a67bb0bde1c726f5027279ccd2504939f566f11d01df2981e46baef60d093c15"
  },
  "kernelspec": {
   "display_name": "Python 3.10.2 ('clase': venv)",
   "language": "python",
   "name": "python3"
  },
  "language_info": {
   "codemirror_mode": {
    "name": "ipython",
    "version": 3
   },
   "file_extension": ".py",
   "mimetype": "text/x-python",
   "name": "python",
   "nbconvert_exporter": "python",
   "pygments_lexer": "ipython3",
   "version": "3.10.2"
  },
  "orig_nbformat": 4
 },
 "nbformat": 4,
 "nbformat_minor": 2
}
