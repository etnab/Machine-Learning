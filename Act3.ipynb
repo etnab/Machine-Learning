{
 "cells": [
  {
   "cell_type": "markdown",
   "metadata": {},
   "source": [
    "<h3>KNN:</h3>"
   ]
  },
  {
   "cell_type": "code",
   "execution_count": 90,
   "metadata": {},
   "outputs": [],
   "source": [
    "import numpy as np\n",
    "import matplotlib.pyplot as plt\n",
    "import pandas as pd\n",
    "from sklearn.model_selection import train_test_split"
   ]
  },
  {
   "cell_type": "code",
   "execution_count": 91,
   "metadata": {},
   "outputs": [
    {
     "name": "stdout",
     "output_type": "stream",
     "text": [
      "(97, 4)\n",
      "(97,)\n",
      "\n",
      "(26, 4)\n",
      "(26,)\n",
      "\n",
      "(27, 4)\n",
      "(27,)\n"
     ]
    }
   ],
   "source": [
    "# Leemos el dataset:\n",
    "data=pd.read_csv(\"iris.csv\")\n",
    "#quitamos las columnas que no tienen mucha correlacion con la clase\n",
    "data = data.drop(columns=[\"Id\"])\n",
    "#indicamos que la columna de clase es tipo categorica \n",
    "data.Species=pd.Categorical(data.Species)\n",
    "data.Species= data.Species.cat.codes\n",
    "\n",
    "# Separamos el dataset en Train, Validation, Test:\n",
    "# Utilizamos una proporción 80:10:10\n",
    "\n",
    "train_size = 0.65\n",
    "test_size = 0.5 # Del resto\n",
    "\n",
    "folds = 5 # k-folds\n",
    "\n",
    "X = data.drop(columns = ['Species']).copy()\n",
    "Y = data['Species']\n",
    "\n",
    "# Partimos el dataset en Train y el resto:\n",
    "X_train, X_rest, Y_train, Y_rest = train_test_split(X,Y, train_size=train_size)\n",
    "\n",
    "# Dividimos el resto a la mitad:\n",
    "X_valid, X_test, Y_valid, Y_test = train_test_split(X_rest,Y_rest, test_size=test_size)\n",
    "\n",
    "print(X_train.shape)\n",
    "print(Y_train.shape)\n",
    "print()\n",
    "print(X_valid.shape)\n",
    "print(Y_valid.shape)\n",
    "print()\n",
    "print(X_test.shape)\n",
    "print(Y_test.shape)"
   ]
  },
  {
   "cell_type": "code",
   "execution_count": 92,
   "metadata": {},
   "outputs": [
    {
     "name": "stdout",
     "output_type": "stream",
     "text": [
      "[0.8399999999999999, 0.9199999999999999, 0.9199999999999999, 0.96, 0.96, 0.9199999999999999, 0.96, 0.9199999999999999, 0.7266666666666668, 0.7266666666666668]\n"
     ]
    },
    {
     "data": {
      "text/plain": [
       "Text(0, 0.5, 'accuracy')"
      ]
     },
     "execution_count": 92,
     "metadata": {},
     "output_type": "execute_result"
    },
    {
     "data": {
      "image/png": "[encoded data removed]",
      "text/plain": [
       "<Figure size 432x288 with 1 Axes>"
      ]
     },
     "metadata": {
      "needs_background": "light"
     },
     "output_type": "display_data"
    }
   ],
   "source": [
    "# Entrenamos el clasifcador KNN:\n",
    "from sklearn.neighbors import KNeighborsClassifier\n",
    "from sklearn.model_selection import cross_val_score\n",
    "\n",
    "# Tuneamos los hiperparámetros (en este caso el número de k vecinos):\n",
    "## Buscamos de 1 a 10 cuál da el mejor resultado con pruebas de validación cruzada:\n",
    "\n",
    "scores_list = []\n",
    "\n",
    "for k in range(1, 11):\n",
    "    KNN = KNeighborsClassifier(n_neighbors=k)\n",
    "    KNN.fit(X_train, Y_train)\n",
    "\n",
    "    prediction = KNN.predict(X_valid)\n",
    "\n",
    "    current_scores = cross_val_score(KNN, X_valid, Y_valid, cv=folds)\n",
    "    scores_list.append(current_scores.mean())\n",
    "\n",
    "print(scores_list)\n",
    "\n",
    "# Graficamos los resultados para decidir qué valor de k utilizar:\n",
    "plt.plot(range(1, 11), scores_list)\n",
    "plt.xlabel(\"k-neighbours\")\n",
    "plt.ylabel(\"accuracy\")\n",
    "    "
   ]
  },
  {
   "cell_type": "code",
   "execution_count": 93,
   "metadata": {},
   "outputs": [
    {
     "name": "stdout",
     "output_type": "stream",
     "text": [
      "(123, 4)\n",
      "(123,)\n"
     ]
    }
   ],
   "source": [
    "# Decidimos que el valor k adecuado para nuestro clasificador KNN es 5:\n",
    "k = 5\n",
    "\n",
    "# Entrenamos nuestro clasificado juntando Train + Validation:\n",
    "X_train_final = pd.concat([X_train, X_valid])\n",
    "Y_train_final = pd.concat([Y_train, Y_valid])\n",
    "\n",
    "print(X_train_final.shape)\n",
    "print(Y_train_final.shape)\n",
    "\n",
    "#print(X_train_final)\n",
    "#print(Y_train_final)"
   ]
  },
  {
   "cell_type": "code",
   "execution_count": 94,
   "metadata": {},
   "outputs": [
    {
     "name": "stdout",
     "output_type": "stream",
     "text": [
      "0.9629629629629629\n"
     ]
    }
   ],
   "source": [
    "from sklearn import metrics\n",
    "\n",
    "KNN = KNeighborsClassifier(n_neighbors=k)\n",
    "KNN.fit(X_train_final, Y_train_final)\n",
    "predictions = KNN.predict(X_test)\n",
    "\n",
    "knn_score = metrics.accuracy_score(Y_test, predictions)\n",
    "\n",
    "print(knn_score)"
   ]
  },
  {
   "cell_type": "markdown",
   "metadata": {},
   "source": [
    "<h3>SVM</h3>"
   ]
  },
  {
   "cell_type": "code",
   "execution_count": null,
   "metadata": {},
   "outputs": [],
   "source": []
  }
 ],
 "metadata": {
  "interpreter": {
   "hash": "4fb853c5dfe12a516b7abcbed09782e80ff12cfc3a9b6520df400885da906280"
  },
  "kernelspec": {
   "display_name": "Python 3.8.12 ('inteligencia_computacional')",
   "language": "python",
   "name": "python3"
  },
  "language_info": {
   "codemirror_mode": {
    "name": "ipython",
    "version": 3
   },
   "file_extension": ".py",
   "mimetype": "text/x-python",
   "name": "python",
   "nbconvert_exporter": "python",
   "pygments_lexer": "ipython3",
   "version": "3.8.12"
  },
  "orig_nbformat": 4
 },
 "nbformat": 4,
 "nbformat_minor": 2
}
