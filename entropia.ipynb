{
 "cells": [
  {
   "cell_type": "code",
   "execution_count": 6,
   "metadata": {},
   "outputs": [
    {
     "ename": "SyntaxError",
     "evalue": "invalid syntax (2390387994.py, line 6)",
     "output_type": "error",
     "traceback": [
      "\u001b[0;36m  Input \u001b[0;32mIn [6]\u001b[0;36m\u001b[0m\n\u001b[0;31m    total = datos.count().class\u001b[0m\n\u001b[0m                          ^\u001b[0m\n\u001b[0;31mSyntaxError\u001b[0m\u001b[0;31m:\u001b[0m invalid syntax\n"
     ]
    }
   ],
   "source": [
    "import pandas as pd\n",
    "import math\n",
    "\n",
    "datos = pd.read_csv(\"apples.csv\")\n",
    "def entropia (datos):\n",
    "    total = datos.count().class\n",
    "    clase0=datos.loc[datos[\"clase\"]==0].count().class/total\n",
    "    clase1=datos.loc[datos[\"clase\"]==1].count().class/total\n",
    "    ent=0 \n",
    "    if clase0>0:\n",
    "        ent+=(-clase0*math.log(clase0,2))\n",
    "    if clase1>0:\n",
    "        ent+=(-clase1*math.log(clase1,2))\n",
    "    return ent\n",
    "     \n",
    "\n",
    "\n",
    "entropia(datos) \n"
   ]
  },
  {
   "cell_type": "code",
   "execution_count": null,
   "metadata": {},
   "outputs": [],
   "source": [
    "def informationGain(datos,sep1, sep2): \n",
    "    entropiaCompleto=datos\n",
    "    sep1Count =sep1.count().clase \n"
   ]
  }
 ],
 "metadata": {
  "interpreter": {
   "hash": "34b7e0f1b56d3d5ef3af1abbfcb520c63560d62e0ce392fde2e69c9f168bfb7d"
  },
  "kernelspec": {
   "display_name": "Python 3.9.6 ('IC': venv)",
   "language": "python",
   "name": "python3"
  },
  "language_info": {
   "codemirror_mode": {
    "name": "ipython",
    "version": 3
   },
   "file_extension": ".py",
   "mimetype": "text/x-python",
   "name": "python",
   "nbconvert_exporter": "python",
   "pygments_lexer": "ipython3",
   "version": "3.9.6"
  },
  "orig_nbformat": 4
 },
 "nbformat": 4,
 "nbformat_minor": 2
}
