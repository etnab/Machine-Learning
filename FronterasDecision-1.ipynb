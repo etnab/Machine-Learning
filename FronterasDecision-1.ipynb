{
 "cells": [
  {
   "cell_type": "code",
   "execution_count": 1,
   "metadata": {},
   "outputs": [
    {
     "data": {
      "image/png": "[encoded data removed]",
      "text/plain": [
       "<Figure size 432x288 with 1 Axes>"
      ]
     },
     "metadata": {
      "needs_background": "light"
     },
     "output_type": "display_data"
    }
   ],
   "source": [
    "import numpy as np\n",
    "import matplotlib.pyplot as plt\n",
    "import pandas as pd\n",
    "datos=pd.read_csv(\"data/diamante.csv\")\n",
    "clase1=datos.loc[datos[\"clase\"]==1]\n",
    "clase0=datos.loc[datos[\"clase\"]==0]\n",
    "plt.scatter(clase0.iloc[:,0], clase0.iloc[:,1], color=\"b\", label=\"clase0\")\n",
    "plt.scatter(clase1.iloc[:,0], clase1.iloc[:,1], color=\"r\", label=\"clase1\")\n",
    "plt.legend()\n",
    "plt.xlim(0,8)\n",
    "plt.ylim(0,8)\n",
    "plt.show()"
   ]
  },
  {
   "cell_type": "code",
   "execution_count": null,
   "metadata": {},
   "outputs": [
    {
     "data": {
      "image/png": "[encoded data removed]",
      "text/plain": [
       "<Figure size 432x288 with 1 Axes>"
      ]
     },
     "metadata": {
      "needs_background": "light"
     },
     "output_type": "display_data"
    }
   ],
   "source": [
    "#entrenando clasificador\n",
    "Xtrain=datos.iloc[:, 0:-1].to_numpy();\n",
    "Ytrain=datos.iloc[:, -1].to_numpy()\n",
    "#from sklearn.tree import DecisionTreeClassifier\n",
    "#classifier=DecisionTreeClassifier()\n",
    "#from sklearn.neighbors import KNeighborsClassifier\n",
    "#classifier=KNeighborsClassifier(n_neighbors=3)\n",
    "from sklearn import svm\n",
    "classifier=svm.SVC()#radial basis function\n",
    "classifier=classifier.fit(Xtrain,Ytrain)\n",
    "#generando datos de prueba\n",
    "x=np.linspace(0,10,100)\n",
    "y=np.linspace(0,10,100)\n",
    "clases=dict()\n",
    "clases[1]=[]\n",
    "clases[0]=[]\n",
    "Xtest=[]\n",
    "Ytest=[]\n",
    "for i in range(len(x)):\n",
    "    for j in range(len(y)):\n",
    "        valor=[x[i],y[j]]\n",
    "        Xtest.append(valor)\n",
    "#clasificando los datos\n",
    "Yobtained=classifier.predict(Xtest)\n",
    "#obteniendo puntos dependiendo de su clasificacion\n",
    "for i in range(len(Yobtained)):\n",
    "    clases[Yobtained[i]].append(Xtest[i])\n",
    "clases[0]=np.array(clases[0])\n",
    "clases[1]=np.array(clases[1])\n",
    "if len(clases[0])>0:\n",
    "    plt.scatter(clases[0][:,0], clases[0][:,1], color=\"b\",label=\"clase0\");\n",
    "if len(clases[1])>0:\n",
    "    plt.scatter(clases[1][:,0], clases[1][:,1], color=\"r\",label=\"clase1\");\n",
    "plt.legend()\n",
    "plt.xlim(0,8)\n",
    "plt.ylim(0,8)\n",
    "plt.show()\n",
    "\n"
   ]
  }
 ],
 "metadata": {
  "interpreter": {
   "hash": "a67bb0bde1c726f5027279ccd2504939f566f11d01df2981e46baef60d093c15"
  },
  "kernelspec": {
   "display_name": "Python 3.10.2 ('clase': venv)",
   "language": "python",
   "name": "python3"
  },
  "language_info": {
   "codemirror_mode": {
    "name": "ipython",
    "version": 3
   },
   "file_extension": ".py",
   "mimetype": "text/x-python",
   "name": "python",
   "nbconvert_exporter": "python",
   "pygments_lexer": "ipython3",
   "version": "3.9.6"
  },
  "orig_nbformat": 4
 },
 "nbformat": 4,
 "nbformat_minor": 2
}
