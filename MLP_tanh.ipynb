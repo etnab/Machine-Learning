{
 "cells": [
  {
   "cell_type": "code",
   "execution_count": 3,
   "metadata": {},
   "outputs": [],
   "source": [
    "#importar las librerias y datos\n",
    "import pandas as pd\n",
    "import numpy as np\n",
    "import matplotlib.pyplot as plt\n",
    "import matplotlib.pyplot as plt\n",
    "from sklearn import metrics\n",
    "import time\n",
    "#separar los datos en X y Y\n",
    "#datos=pd.read_csv(\"data/applesFull.csv\")\n",
    "#X=datos.iloc[:, :-1].to_numpy()\n",
    "#Y=datos.iloc[:, -1].to_numpy()\n",
    "X=np.array([[0,0], [0,1], [1,0], [1,1]])\n",
    "Y=np.array([[0], [1], [1], [0]])\n",
    "#obtener cuantos ejemplos tenemos y cuantas caracteristicas\n",
    "n=np.shape(X)[0]#ejemplos\n",
    "m=np.shape(X)[1]#caracteristicas\n",
    "Y=np.reshape(Y, (n, 1))"
   ]
  },
  {
   "cell_type": "code",
   "execution_count": 4,
   "metadata": {},
   "outputs": [],
   "source": [
    "#funcion de empacar, que regresa un diccionario con los diferentes pesos\n",
    "\n",
    "def empacar(w1, b1, w2, b2):\n",
    "    pesos=dict()\n",
    "    #meter al diccionario\n",
    "    pesos[\"w1\"]=w1\n",
    "    pesos[\"b1\"]=b1\n",
    "    pesos[\"w2\"]=w2\n",
    "    pesos[\"b2\"]=b2\n",
    "    return pesos\n",
    "\n",
    "def desempacar(pesos):\n",
    "    return pesos[\"w1\"], pesos[\"b1\"], pesos[\"w2\"], pesos[\"b2\"]"
   ]
  },
  {
   "cell_type": "code",
   "execution_count": 5,
   "metadata": {},
   "outputs": [
    {
     "name": "stdout",
     "output_type": "stream",
     "text": [
      "w1 (2, 4)\n",
      "b1 (1, 4)\n",
      "w2 (4, 1)\n",
      "b2 (1, 1)\n"
     ]
    }
   ],
   "source": [
    "ocultas=4\n",
    "salida=1\n",
    "w1=np.random.rand(m, ocultas)\n",
    "b1=np.zeros((1, ocultas))\n",
    "w2=np.random.rand(ocultas,salida)\n",
    "b2=np.zeros((1, salida))\n",
    "A0=X\n",
    "print(\"w1\", np.shape(w1))\n",
    "print(\"b1\", np.shape(b1))\n",
    "print(\"w2\", np.shape(w2))\n",
    "print(\"b2\", np.shape(b2))\n",
    "pesos=empacar(w1, b1, w2, b2)\n"
   ]
  },
  {
   "cell_type": "code",
   "execution_count": 6,
   "metadata": {},
   "outputs": [
    {
     "name": "stdout",
     "output_type": "stream",
     "text": [
      "A0 (4, 2)\n",
      "J 0.8176733866233368\n"
     ]
    },
    {
     "data": {
      "text/plain": [
       "array([[0, 0, 0, 0],\n",
       "       [1, 1, 1, 1],\n",
       "       [1, 1, 1, 1],\n",
       "       [1, 1, 1, 1]])"
      ]
     },
     "execution_count": 6,
     "metadata": {},
     "output_type": "execute_result"
    }
   ],
   "source": [
    "#agrgar learning rate\n",
    "lr=.01\n",
    "iteraciones=1\n",
    "#Propagación hacia adelante\n",
    "print(\"A0\", np.shape(A0))\n",
    "for i in range(iteraciones):\n",
    "    #Combinación lineal en capa 1\n",
    "    Z1=np.dot(A0, w1)+b1\n",
    "    #print(\"Z1\", np.shape(Z1))\n",
    "    #Activación en capa 1\n",
    "    A1=1/(1+np.exp(-Z1))\n",
    "    #print(\"A1\", np.shape(A1))\n",
    "    #Combinación lineal en capa 2\n",
    "    #Pesos w2 multiplados por la salida de la capa anterior A1 y agregando el intercepto b2\n",
    "    Z2=np.dot(A1, w2)+b2\n",
    "    #print(\"Z2\", np.shape(Z2))\n",
    "    #Activación en capa 2\n",
    "    A2=1/(1+np.exp(-Z2))\n",
    "    #print(\"A2\", np.shape(A2))\n",
    "    #obtener el costo de propagar hacia adelante\n",
    "    J=np.sum(-Y*np.log(A2)-(1-Y)*np.log(1-A2))/n\n",
    "    print(\"J\", J)\n",
    "    dZ2=A2-Y\n",
    "    #print(\"dA2\", np.shape(A2))\n",
    "    dw2=np.dot(A1.T, dZ2)\n",
    "    #print(\"dw2\", np.shape(dw2))\n",
    "    db2=np.sum(dZ2, axis=0, keepdims=True)/n\n",
    "    #print(\"db2\", np.shape(db2))\n",
    "    dA1=A1*(1-A1) #derivada de la sigmoide en capa 1\n",
    "    dz1=np.dot(dZ2, w2.T)*dA1\n",
    "    #print(\"dA1\", np.shape(dA1))\n",
    "    #print(\"dz1\", np.shape(dz1))\n",
    "    dw1=np.dot(A0.T, dz1)\n",
    "    #print(\"dw1\", np.shape(dw1))\n",
    "    db1=np.sum(dz1, axis=0, keepdims=True)/n\n",
    "    #print(\"db1\", np.shape(db1))\n",
    "    w2=w2-lr*dw2\n",
    "    b2=b2-lr*db2\n",
    "    b1=b1-lr*db1\n",
    "    w1=w1-lr*dw1\n",
    "1*(Z1>0)"
   ]
  },
  {
   "cell_type": "code",
   "execution_count": 7,
   "metadata": {},
   "outputs": [],
   "source": [
    "def entrenar(X,Y, pesos, lr=.01, iteraciones=100):\n",
    "    A0=X\n",
    "    costos=[]\n",
    "    w1,b1,w2,b2=desempacar(pesos)\n",
    "    for i in range(iteraciones):\n",
    "        Z1=np.dot(A0, w1)+b1\n",
    "        #A1=1/(1+np.exp(-Z1))#activacion capa 1\n",
    "        A1=np.tanh(Z1) #acticacion en tanh\n",
    "        #A1=Z1*(Z1>0)\n",
    "        Z2=np.dot(A1, w2)+b2\n",
    "        A2=1/(1+np.exp(-Z2))#activacion capa 2\n",
    "        J=np.sum(-Y*np.log(A2)-(1-Y)*np.log(1-A2))/n\n",
    "        costos.append(J)\n",
    "        dZ2=A2-Y\n",
    "        dw2=np.dot(A1.T, dZ2)\n",
    "        db2=np.sum(dZ2, axis=0, keepdims=True)/n\n",
    "        #dA1=A1*(1-A1) #derivada de la sigmoide en capa 1\n",
    "        dA1=1-np.power(A1, 2)#derivada de la tanh en capa 1\n",
    "        #dA1=1*(A1>0)  #derivada de la Relu en capa 1\n",
    "        dz1=np.dot(dZ2, w2.T)*dA1\n",
    "        dw1=np.dot(A0.T, dz1)\n",
    "        db1=np.sum(dz1, axis=0, keepdims=True)/n\n",
    "        w2=w2-lr*dw2\n",
    "        b2=b2-lr*db2\n",
    "        b1=b1-lr*db1\n",
    "        w1=w1-lr*dw1\n",
    "    pesos=empacar(w1, b1, w2, b2)\n",
    "    return pesos, costos"
   ]
  },
  {
   "cell_type": "code",
   "execution_count": 8,
   "metadata": {},
   "outputs": [],
   "source": [
    "def clasificar(X, pesos):\n",
    "    w1, b1, w2, b2=desempacar(pesos)\n",
    "    Z1=np.dot(X, w1)+b1\n",
    "    #A1=1/(1+np.exp(-Z1))\n",
    "    A1=np.tanh(Z1)\n",
    "    #A1=Z1*(Z1>0)\n",
    "    Z2=np.dot(A1, w2)+b2\n",
    "    A2=1/(1+np.exp(-Z2))\n",
    "    res=[]\n",
    "    for i in A2:\n",
    "        if i>.5:\n",
    "            res.append(1)\n",
    "        else:\n",
    "            res.append(0)\n",
    "    return res"
   ]
  },
  {
   "cell_type": "code",
   "execution_count": 9,
   "metadata": {},
   "outputs": [],
   "source": [
    "def inicializar(entrada, ocultas, salida):\n",
    "    w1=np.random.randn(entrada, ocultas)*.01\n",
    "    b1=np.zeros((1, ocultas))\n",
    "    w2=np.random.randn(ocultas,salida)*.01\n",
    "    b2=np.zeros((1, salida))\n",
    "    pesos=empacar(w1, b1, w2, b2)\n",
    "    return pesos\n",
    "\n"
   ]
  },
  {
   "cell_type": "code",
   "execution_count": 13,
   "metadata": {},
   "outputs": [
    {
     "name": "stdout",
     "output_type": "stream",
     "text": [
      "Tomo 28.009742975234985\n",
      "Accuracy 1.0\n"
     ]
    },
    {
     "data": {
      "image/png": "[encoded data removed]",
      "text/plain": [
       "<Figure size 432x288 with 1 Axes>"
      ]
     },
     "metadata": {
      "needs_background": "light"
     },
     "output_type": "display_data"
    }
   ],
   "source": [
    "\n",
    "ocultas=25\n",
    "salida=1\n",
    "pesos=inicializar(m, ocultas, salida)\n",
    "t0=time.time()\n",
    "pesos,costos=entrenar(X, Y, pesos, lr=.1, iteraciones=300000)\n",
    "t1=time.time()\n",
    "print(\"Tomo\", t1-t0)\n",
    "resultados=clasificar(X, pesos)\n",
    "plt.plot(costos)\n",
    "print(\"Accuracy\", metrics.accuracy_score(Y, resultados))\n",
    "#En que iteracion se estabiliza\n",
    "#Qué accuracy logran\n",
    "#Cuantas neuronas en capa oculta usaron\n",
    "#La combinación de parametros (# neuronas ocultas, learning rate e iteraciones) para lograr 1 de accuracy con:\n",
    "#Sigmoide\n",
    "#TanH\n",
    "#Relu\n"
   ]
  },
  {
   "cell_type": "code",
   "execution_count": 11,
   "metadata": {},
   "outputs": [
    {
     "data": {
      "text/plain": [
       "[1, 1, 0, 0]"
      ]
     },
     "execution_count": 11,
     "metadata": {},
     "output_type": "execute_result"
    }
   ],
   "source": [
    "X_test=np.array([[1,0], [0,1],[1,1], [0,0]])\n",
    "clasificar(X_test, pesos)"
   ]
  }
 ],
 "metadata": {
  "interpreter": {
   "hash": "a67bb0bde1c726f5027279ccd2504939f566f11d01df2981e46baef60d093c15"
  },
  "kernelspec": {
   "display_name": "Python 3.10.2 ('clase': venv)",
   "language": "python",
   "name": "python3"
  },
  "language_info": {
   "codemirror_mode": {
    "name": "ipython",
    "version": 3
   },
   "file_extension": ".py",
   "mimetype": "text/x-python",
   "name": "python",
   "nbconvert_exporter": "python",
   "pygments_lexer": "ipython3",
   "version": "3.9.6"
  },
  "orig_nbformat": 4
 },
 "nbformat": 4,
 "nbformat_minor": 2
}
