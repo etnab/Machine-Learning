{
 "cells": [
  {
   "cell_type": "code",
   "execution_count": 2,
   "metadata": {},
   "outputs": [],
   "source": [
    "import numpy as np\n",
    "import matplotlib.pyplot as plt\n",
    "import pandas as pd\n",
    "from sklearn import model_selection\n",
    "data=pd.read_csv(\"iris.csv\")\n",
    "#quitamos las columnas que no tienen mucha correlacion con la clase\n",
    "data = data.drop(columns=[\"Id\"])\n",
    "#indicamos que la columna de clase es tipo categorica \n",
    "data.Species=pd.Categorical(data.Species)\n",
    "data.Species= data.Species.cat.codes\n",
    "\n",
    "#separar en datos y etiquetas\n",
    "X=data.iloc[:, :-1]\n",
    "Y=data.iloc[:, -1]\n",
    "\n",
    "Xtrain, xtest, Ytrain, ytest=model_selection.train_test_split(X, Y, test_size=.5)\n",
    "Xvalidation, Xtest, Yvalidation, Ytest=model_selection.train_test_split(xtest, ytest, test_size=.5)"
   ]
  },
  {
   "cell_type": "code",
   "execution_count": 11,
   "metadata": {},
   "outputs": [
    {
     "name": "stdout",
     "output_type": "stream",
     "text": [
      "1\n",
      "[1.0, 1.0, 1.0, 1.0, 1.0, 1.0, 0.9459459459459459, 0.9459459459459459, 0.918918918918919, 0.918918918918919]\n"
     ]
    }
   ],
   "source": [
    "#KNN\n",
    "from sklearn.neighbors import KNeighborsClassifier\n",
    "from sklearn.metrics import accuracy_score\n",
    "#generar la instancia del clasificador\n",
    "accuracyTest=[]\n",
    "max_k=11\n",
    "temp=0\n",
    "for k in range(1, max_k):\n",
    "    classifier = KNeighborsClassifier(n_neighbors=k)\n",
    "    classifier.fit(Xtrain, Ytrain)\n",
    "    y_predTrain = classifier.predict(Xtrain)\n",
    "    classifier.fit(Xvalidation, Yvalidation)\n",
    "    y_predValidation = classifier.predict(Xvalidation)\n",
    "    score=accuracy_score(Yvalidation,y_predValidation)\n",
    "    accuracyTest.append(np.mean(score))\n",
    "\n",
    "for i in range(len(accuracyTest)):\n",
    "    if(accuracyTest[i]>temp):\n",
    "        k=i+1\n",
    "    temp=accuracyTest[i]\n",
    "\n",
    "print(k)\n",
    "print(accuracyTest)"
   ]
  },
  {
   "cell_type": "code",
   "execution_count": 4,
   "metadata": {},
   "outputs": [
    {
     "name": "stdout",
     "output_type": "stream",
     "text": [
      "1.0\n"
     ]
    }
   ],
   "source": [
    "#Arbol \n",
    "\n",
    "from sklearn.tree import DecisionTreeClassifier\n",
    "from sklearn.metrics import accuracy_score\n",
    "#generar la instancia del clasificador\n",
    "\n",
    "classifier2 = DecisionTreeClassifier()\n",
    "classifier2.fit(Xtrain, Ytrain)\n",
    "y_predTrain = classifier2.predict(Xtrain)\n",
    "classifier2.fit(Xvalidation, Yvalidation)\n",
    "y_predValidation = classifier2.predict(Xvalidation)\n",
    "accuracyTest=accuracy_score(Yvalidation,y_predValidation)\n",
    "\n",
    "print(accuracyTest)"
   ]
  },
  {
   "cell_type": "code",
   "execution_count": 5,
   "metadata": {},
   "outputs": [],
   "source": [
    "#SVM\n",
    "from sklearn import model_selection\n",
    "from sklearn.metrics import accuracy_score\n",
    "\n",
    "\n",
    "from sklearn import preprocessing\n",
    "normalizer = preprocessing.MinMaxScaler()\n",
    "normalizer = normalizer.fit(X) \n",
    "Xnew=normalizer.transform(X)  \n"
   ]
  },
  {
   "cell_type": "code",
   "execution_count": 6,
   "metadata": {},
   "outputs": [
    {
     "name": "stdout",
     "output_type": "stream",
     "text": [
      "0.972972972972973\n"
     ]
    }
   ],
   "source": [
    "from sklearn import svm\n",
    "classifier3 = svm.SVC(kernel = 'linear')\n",
    "classifier3 = classifier3.fit(Xtrain,Ytrain)\n",
    "y_predValidation = classifier3.predict(Xvalidation)\n",
    "\n",
    "accuracyTest=accuracy_score(Yvalidation,y_predValidation)\n",
    "\n",
    "print(accuracyTest)"
   ]
  },
  {
   "cell_type": "code",
   "execution_count": 7,
   "metadata": {},
   "outputs": [
    {
     "name": "stdout",
     "output_type": "stream",
     "text": [
      "0.918918918918919\n"
     ]
    }
   ],
   "source": [
    "from sklearn import svm\n",
    "classifier3 = svm.SVC(kernel = 'rbf')\n",
    "classifier3 = classifier3.fit(Xtrain,Ytrain)\n",
    "y_predValidation = classifier3.predict(Xvalidation)\n",
    "\n",
    "\n",
    "accuracyTest=accuracy_score(Yvalidation,y_predValidation)\n",
    "\n",
    "print(accuracyTest)"
   ]
  },
  {
   "cell_type": "code",
   "execution_count": 8,
   "metadata": {},
   "outputs": [
    {
     "name": "stdout",
     "output_type": "stream",
     "text": [
      "1.0\n",
      "[0.96666667 0.96666667 0.93333333 0.93333333 1.        ]\n"
     ]
    }
   ],
   "source": [
    "#KNN\n",
    "#juntado entrenamiento con validacion\n",
    "Xtrain=pd.concat([Xtrain, Xvalidation])\n",
    "Ytrain=pd.concat([Ytrain, Yvalidation])\n",
    "#entrenando el modelo con la k con mayor accuracy que se saco anteriormente\n",
    "classifier = KNeighborsClassifier(n_neighbors=k)\n",
    "classifier.fit(Xtrain, Ytrain)\n",
    "y_predTrain = classifier.predict(Xtrain)\n",
    "classifier.fit(Xtest, Ytest)\n",
    "y_predTest = classifier.predict(Xtest)\n",
    "#obteniendo resultados\n",
    "accuracy= accuracy_score(Ytest,y_predTest)\n",
    "print(accuracy)\n",
    "score=model_selection.cross_val_score(classifier, X, Y, cv=5)\n",
    "print(score)\n",
    "\n"
   ]
  },
  {
   "cell_type": "code",
   "execution_count": 9,
   "metadata": {},
   "outputs": [
    {
     "name": "stdout",
     "output_type": "stream",
     "text": [
      "1.0\n",
      "[0.96666667 0.96666667 0.9        0.96666667 1.        ]\n"
     ]
    }
   ],
   "source": [
    "# Arbol\n",
    "\n",
    "from sklearn.tree import DecisionTreeClassifier\n",
    "#entrenando el modelo con la k con mayor accuracy que se saco anteriormente\n",
    "classifier2 = DecisionTreeClassifier()\n",
    "classifier2.fit(Xtrain, Ytrain)\n",
    "y_predTrain = classifier2.predict(Xtrain)\n",
    "classifier2.fit(Xtest, Ytest)\n",
    "y_predTest = classifier2.predict(Xtest)\n",
    "#obteniendo resultados\n",
    "accuracy= accuracy_score(Ytest,y_predTest)\n",
    "print(accuracy)\n",
    "score=model_selection.cross_val_score(classifier2, X, Y, cv=5)\n",
    "print(score)"
   ]
  },
  {
   "cell_type": "code",
   "execution_count": 10,
   "metadata": {},
   "outputs": [],
   "source": [
    "#SVM\n",
    "classifier3 = svm.SVC(kernel = 'linear')\n",
    "classifier3.fit(Xtrain, Ytrain)\n",
    "y_predTrain = classifier3.predict(Xtrain)\n",
    "classifier3.fit(Xtest, Ytest)\n",
    "y_predTest = classifier3.predict(Xtest)\n",
    "#obteniendo resultados\n",
    "accuracy= accuracy_score(Ytest,y_predTest)\n",
    "print(accuracy)\n",
    "score=model_selection.cross_val_score(classifier2, X, Y, cv=5)\n",
    "print(score)"
   ]
  },
  {
   "cell_type": "code",
   "execution_count": null,
   "metadata": {},
   "outputs": [],
   "source": []
  }
 ],
 "metadata": {
  "interpreter": {
   "hash": "0c1b4711d594a5af5ce7d5919edc6d252ea4d2fa75d64165016b77ecb7e55660"
  },
  "kernelspec": {
   "display_name": "Python 3.9.4 ('clase': venv)",
   "language": "python",
   "name": "python3"
  },
  "language_info": {
   "codemirror_mode": {
    "name": "ipython",
    "version": 3
   },
   "file_extension": ".py",
   "mimetype": "text/x-python",
   "name": "python",
   "nbconvert_exporter": "python",
   "pygments_lexer": "ipython3",
   "version": "3.9.6"
  },
  "orig_nbformat": 4
 },
 "nbformat": 4,
 "nbformat_minor": 2
}
