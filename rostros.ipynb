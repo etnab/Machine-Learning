{
 "cells": [
  {
   "cell_type": "code",
   "execution_count": 1,
   "metadata": {},
   "outputs": [
    {
     "ename": "ModuleNotFoundError",
     "evalue": "No module named 'Keras'",
     "output_type": "error",
     "traceback": [
      "\u001b[0;31m---------------------------------------------------------------------------\u001b[0m",
      "\u001b[0;31mModuleNotFoundError\u001b[0m                       Traceback (most recent call last)",
      "\u001b[1;32m/Users/etnaramirez/Documents/8 semestre/IC/rostros.ipynb Cell 1'\u001b[0m in \u001b[0;36m<cell line: 4>\u001b[0;34m()\u001b[0m\n\u001b[1;32m      <a href='vscode-notebook-cell:/Users/etnaramirez/Documents/8%20semestre/IC/rostros.ipynb#ch0000000?line=0'>1</a>\u001b[0m \u001b[39m#importar librerias para cargas las imagenes\u001b[39;00m\n\u001b[0;32m----> <a href='vscode-notebook-cell:/Users/etnaramirez/Documents/8%20semestre/IC/rostros.ipynb#ch0000000?line=3'>4</a>\u001b[0m \u001b[39mfrom\u001b[39;00m \u001b[39mKeras\u001b[39;00m\u001b[39m.\u001b[39;00m\u001b[39mpreprocessing\u001b[39;00m \u001b[39mimport\u001b[39;00m image\n\u001b[1;32m      <a href='vscode-notebook-cell:/Users/etnaramirez/Documents/8%20semestre/IC/rostros.ipynb#ch0000000?line=4'>5</a>\u001b[0m \u001b[39m#importar librerias para desplegar las imagenes\u001b[39;00m\n\u001b[1;32m      <a href='vscode-notebook-cell:/Users/etnaramirez/Documents/8%20semestre/IC/rostros.ipynb#ch0000000?line=5'>6</a>\u001b[0m \u001b[39mimport\u001b[39;00m \u001b[39mmatplotlib\u001b[39;00m\u001b[39m.\u001b[39;00m\u001b[39mpyplot\u001b[39;00m \u001b[39mas\u001b[39;00m \u001b[39mplt\u001b[39;00m\n",
      "\u001b[0;31mModuleNotFoundError\u001b[0m: No module named 'Keras'"
     ]
    }
   ],
   "source": [
    "#importar librerias para cargas las imagenes\n",
    "\n",
    "\n",
    "from keras.preprocessing import image\n",
    "#importar librerias para desplegar las imagenes\n",
    "import matplotlib.pyplot as plt\n",
    "#numpy\n",
    "import numpy as np\n",
    "#importar el detector de caras MTCNN\n",
    "from mtcnn.mtcnn import MTCNN\n",
    "#instanciar el detector de casa\n",
    "detector=MTCNN()"
   ]
  }
 ],
 "metadata": {
  "interpreter": {
   "hash": "5cacbb3c092fab53a60e9a71562ab76ab5ec75d7d3bd960d0f30450a9f52945e"
  },
  "kernelspec": {
   "display_name": "Python 3.9.6 ('IC': venv)",
   "language": "python",
   "name": "python3"
  },
  "language_info": {
   "codemirror_mode": {
    "name": "ipython",
    "version": 3
   },
   "file_extension": ".py",
   "mimetype": "text/x-python",
   "name": "python",
   "nbconvert_exporter": "python",
   "pygments_lexer": "ipython3",
   "version": "3.9.6"
  },
  "orig_nbformat": 4
 },
 "nbformat": 4,
 "nbformat_minor": 2
}
